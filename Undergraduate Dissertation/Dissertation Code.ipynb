{
  "cells": [
    {
      "cell_type": "markdown",
      "metadata": {
        "id": "zXf-_3ep9BSX"
      },
      "source": [
        "File modified by Julia Ive julia.ive84@gmail.com\n",
        "\n",
        "https://github.com/rampopat/humour-reg\n",
        "\n",
        "Original work Copyright (c) 2021 Ram Popat"
      ]
    },
    {
      "cell_type": "code",
      "execution_count": null,
      "metadata": {
        "colab": {
          "base_uri": "https://localhost:8080/"
        },
        "id": "f0NxfVu8ckDZ",
        "outputId": "5f587ace-4510-45db-fc62-d621a00f2136"
      },
      "outputs": [
        {
          "output_type": "stream",
          "name": "stderr",
          "text": [
            "[nltk_data] Downloading package wordnet to /root/nltk_data...\n",
            "[nltk_data] Downloading package omw-1.4 to /root/nltk_data...\n",
            "[nltk_data] Downloading package averaged_perceptron_tagger to\n",
            "[nltk_data]     /root/nltk_data...\n",
            "[nltk_data]   Unzipping taggers/averaged_perceptron_tagger.zip.\n"
          ]
        }
      ],
      "source": [
        "# Imports\n",
        "\n",
        "import re\n",
        "import torch\n",
        "import torch.nn as nn\n",
        "import pandas as pd\n",
        "import numpy as np\n",
        "import matplotlib.pyplot as plt\n",
        "from sklearn.feature_extraction.text import CountVectorizer\n",
        "from torch.utils.data import Dataset, random_split\n",
        "from sklearn.feature_extraction.text import TfidfTransformer\n",
        "from sklearn.model_selection import train_test_split\n",
        "from sklearn.model_selection import GridSearchCV\n",
        "from sklearn.linear_model import LinearRegression\n",
        "from sklearn.svm import SVR\n",
        "from sklearn.ensemble import RandomForestRegressor\n",
        "from collections import Counter, defaultdict\n",
        "from scipy.sparse import hstack\n",
        "import seaborn as sns\n",
        "import matplotlib.pyplot as plt\n",
        "import codecs\n",
        "import string\n",
        "import nltk\n",
        "nltk.download('wordnet')\n",
        "nltk.download('omw-1.4')\n",
        "nltk.download('averaged_perceptron_tagger')\n",
        "from nltk.stem import WordNetLemmatizer\n",
        "from nltk.corpus import wordnet\n",
        "from nltk.stem.porter import PorterStemmer\n",
        "from scipy import stats"
      ]
    },
    {
      "cell_type": "markdown",
      "metadata": {
        "id": "50oWcPIaLtvk"
      },
      "source": [
        "## Loading Data"
      ]
    },
    {
      "cell_type": "code",
      "execution_count": null,
      "metadata": {
        "id": "qEzQfdh0Zum0"
      },
      "outputs": [],
      "source": [
        "PATH_TO_DATA = 'humour-reg/'"
      ]
    },
    {
      "cell_type": "code",
      "execution_count": null,
      "metadata": {
        "id": "ITksotULckDa"
      },
      "outputs": [],
      "source": [
        "# Load data\n",
        "train_df = pd.read_csv(PATH_TO_DATA + 'train.csv')\n",
        "val_df = pd.read_csv(PATH_TO_DATA + 'dev.csv')\n",
        "test_df = pd.read_csv(PATH_TO_DATA + 'test.csv')\n",
        "all_df = pd.concat([train_df, val_df, test_df], ignore_index=True)"
      ]
    },
    {
      "cell_type": "markdown",
      "metadata": {
        "id": "jTQVFoBiyhUN"
      },
      "source": [
        "##Dataset Analysis"
      ]
    },
    {
      "cell_type": "code",
      "execution_count": null,
      "metadata": {
        "id": "L_fvUMi0ygni",
        "colab": {
          "base_uri": "https://localhost:8080/"
        },
        "outputId": "41216535-03e1-4288-d444-60252a3d373d"
      },
      "outputs": [
        {
          "output_type": "stream",
          "name": "stdout",
          "text": [
            "count    15095.000000\n",
            "mean         0.936246\n",
            "std          0.581024\n",
            "min          0.000000\n",
            "25%          0.400000\n",
            "50%          0.800000\n",
            "75%          1.400000\n",
            "max          3.000000\n",
            "Name: meanGrade, dtype: float64\n"
          ]
        },
        {
          "output_type": "execute_result",
          "data": {
            "text/plain": [
              "0.33758916316094095"
            ]
          },
          "metadata": {},
          "execution_count": 11
        }
      ],
      "source": [
        "meanGrade = all_df['meanGrade']\n",
        "print(meanGrade.describe())\n",
        "meanGrade.var()"
      ]
    },
    {
      "cell_type": "code",
      "source": [
        "all_df[(meanGrade==0)]\n",
        "all_df[(meanGrade==3)]"
      ],
      "metadata": {
        "colab": {
          "base_uri": "https://localhost:8080/",
          "height": 206
        },
        "id": "sOAF_ofpA-By",
        "outputId": "abdf04ba-bb8a-492d-9902-e1250f3d67be"
      },
      "execution_count": null,
      "outputs": [
        {
          "output_type": "execute_result",
          "data": {
            "text/plain": [
              "          id                                           original          edit  \\\n",
              "1490    3404  President Trump 's first year <anniversary/> r...  Kindergarten   \n",
              "6075    1229  Recent Scandals Highlight Trump 's Chaotic <Ma...       Fashion   \n",
              "11063  11404  Hillary Clinton Supporters Filed a Complaint A...    themselves   \n",
              "11595   1805  RAF fighters intercept two Russian <bombers/> ...        drunks   \n",
              "12067  14764  Trump Mocks Schumer ’s Tears ; Vows to ‘ Make ...        Insane   \n",
              "\n",
              "       grades  meanGrade  \n",
              "1490    33333        3.0  \n",
              "6075    33333        3.0  \n",
              "11063   33333        3.0  \n",
              "11595   33333        3.0  \n",
              "12067   33333        3.0  "
            ],
            "text/html": [
              "\n",
              "  <div id=\"df-930facc9-f3b6-4718-9239-4da98577042f\">\n",
              "    <div class=\"colab-df-container\">\n",
              "      <div>\n",
              "<style scoped>\n",
              "    .dataframe tbody tr th:only-of-type {\n",
              "        vertical-align: middle;\n",
              "    }\n",
              "\n",
              "    .dataframe tbody tr th {\n",
              "        vertical-align: top;\n",
              "    }\n",
              "\n",
              "    .dataframe thead th {\n",
              "        text-align: right;\n",
              "    }\n",
              "</style>\n",
              "<table border=\"1\" class=\"dataframe\">\n",
              "  <thead>\n",
              "    <tr style=\"text-align: right;\">\n",
              "      <th></th>\n",
              "      <th>id</th>\n",
              "      <th>original</th>\n",
              "      <th>edit</th>\n",
              "      <th>grades</th>\n",
              "      <th>meanGrade</th>\n",
              "    </tr>\n",
              "  </thead>\n",
              "  <tbody>\n",
              "    <tr>\n",
              "      <th>1490</th>\n",
              "      <td>3404</td>\n",
              "      <td>President Trump 's first year &lt;anniversary/&gt; r...</td>\n",
              "      <td>Kindergarten</td>\n",
              "      <td>33333</td>\n",
              "      <td>3.0</td>\n",
              "    </tr>\n",
              "    <tr>\n",
              "      <th>6075</th>\n",
              "      <td>1229</td>\n",
              "      <td>Recent Scandals Highlight Trump 's Chaotic &lt;Ma...</td>\n",
              "      <td>Fashion</td>\n",
              "      <td>33333</td>\n",
              "      <td>3.0</td>\n",
              "    </tr>\n",
              "    <tr>\n",
              "      <th>11063</th>\n",
              "      <td>11404</td>\n",
              "      <td>Hillary Clinton Supporters Filed a Complaint A...</td>\n",
              "      <td>themselves</td>\n",
              "      <td>33333</td>\n",
              "      <td>3.0</td>\n",
              "    </tr>\n",
              "    <tr>\n",
              "      <th>11595</th>\n",
              "      <td>1805</td>\n",
              "      <td>RAF fighters intercept two Russian &lt;bombers/&gt; ...</td>\n",
              "      <td>drunks</td>\n",
              "      <td>33333</td>\n",
              "      <td>3.0</td>\n",
              "    </tr>\n",
              "    <tr>\n",
              "      <th>12067</th>\n",
              "      <td>14764</td>\n",
              "      <td>Trump Mocks Schumer ’s Tears ; Vows to ‘ Make ...</td>\n",
              "      <td>Insane</td>\n",
              "      <td>33333</td>\n",
              "      <td>3.0</td>\n",
              "    </tr>\n",
              "  </tbody>\n",
              "</table>\n",
              "</div>\n",
              "      <button class=\"colab-df-convert\" onclick=\"convertToInteractive('df-930facc9-f3b6-4718-9239-4da98577042f')\"\n",
              "              title=\"Convert this dataframe to an interactive table.\"\n",
              "              style=\"display:none;\">\n",
              "        \n",
              "  <svg xmlns=\"http://www.w3.org/2000/svg\" height=\"24px\"viewBox=\"0 0 24 24\"\n",
              "       width=\"24px\">\n",
              "    <path d=\"M0 0h24v24H0V0z\" fill=\"none\"/>\n",
              "    <path d=\"M18.56 5.44l.94 2.06.94-2.06 2.06-.94-2.06-.94-.94-2.06-.94 2.06-2.06.94zm-11 1L8.5 8.5l.94-2.06 2.06-.94-2.06-.94L8.5 2.5l-.94 2.06-2.06.94zm10 10l.94 2.06.94-2.06 2.06-.94-2.06-.94-.94-2.06-.94 2.06-2.06.94z\"/><path d=\"M17.41 7.96l-1.37-1.37c-.4-.4-.92-.59-1.43-.59-.52 0-1.04.2-1.43.59L10.3 9.45l-7.72 7.72c-.78.78-.78 2.05 0 2.83L4 21.41c.39.39.9.59 1.41.59.51 0 1.02-.2 1.41-.59l7.78-7.78 2.81-2.81c.8-.78.8-2.07 0-2.86zM5.41 20L4 18.59l7.72-7.72 1.47 1.35L5.41 20z\"/>\n",
              "  </svg>\n",
              "      </button>\n",
              "      \n",
              "  <style>\n",
              "    .colab-df-container {\n",
              "      display:flex;\n",
              "      flex-wrap:wrap;\n",
              "      gap: 12px;\n",
              "    }\n",
              "\n",
              "    .colab-df-convert {\n",
              "      background-color: #E8F0FE;\n",
              "      border: none;\n",
              "      border-radius: 50%;\n",
              "      cursor: pointer;\n",
              "      display: none;\n",
              "      fill: #1967D2;\n",
              "      height: 32px;\n",
              "      padding: 0 0 0 0;\n",
              "      width: 32px;\n",
              "    }\n",
              "\n",
              "    .colab-df-convert:hover {\n",
              "      background-color: #E2EBFA;\n",
              "      box-shadow: 0px 1px 2px rgba(60, 64, 67, 0.3), 0px 1px 3px 1px rgba(60, 64, 67, 0.15);\n",
              "      fill: #174EA6;\n",
              "    }\n",
              "\n",
              "    [theme=dark] .colab-df-convert {\n",
              "      background-color: #3B4455;\n",
              "      fill: #D2E3FC;\n",
              "    }\n",
              "\n",
              "    [theme=dark] .colab-df-convert:hover {\n",
              "      background-color: #434B5C;\n",
              "      box-shadow: 0px 1px 3px 1px rgba(0, 0, 0, 0.15);\n",
              "      filter: drop-shadow(0px 1px 2px rgba(0, 0, 0, 0.3));\n",
              "      fill: #FFFFFF;\n",
              "    }\n",
              "  </style>\n",
              "\n",
              "      <script>\n",
              "        const buttonEl =\n",
              "          document.querySelector('#df-930facc9-f3b6-4718-9239-4da98577042f button.colab-df-convert');\n",
              "        buttonEl.style.display =\n",
              "          google.colab.kernel.accessAllowed ? 'block' : 'none';\n",
              "\n",
              "        async function convertToInteractive(key) {\n",
              "          const element = document.querySelector('#df-930facc9-f3b6-4718-9239-4da98577042f');\n",
              "          const dataTable =\n",
              "            await google.colab.kernel.invokeFunction('convertToInteractive',\n",
              "                                                     [key], {});\n",
              "          if (!dataTable) return;\n",
              "\n",
              "          const docLinkHtml = 'Like what you see? Visit the ' +\n",
              "            '<a target=\"_blank\" href=https://colab.research.google.com/notebooks/data_table.ipynb>data table notebook</a>'\n",
              "            + ' to learn more about interactive tables.';\n",
              "          element.innerHTML = '';\n",
              "          dataTable['output_type'] = 'display_data';\n",
              "          await google.colab.output.renderOutput(dataTable, element);\n",
              "          const docLink = document.createElement('div');\n",
              "          docLink.innerHTML = docLinkHtml;\n",
              "          element.appendChild(docLink);\n",
              "        }\n",
              "      </script>\n",
              "    </div>\n",
              "  </div>\n",
              "  "
            ]
          },
          "metadata": {},
          "execution_count": 12
        }
      ]
    },
    {
      "cell_type": "code",
      "source": [
        "plt.style.use('ggplot')\n",
        "hist, bin_edges = np.histogram(meanGrade)\n",
        "\n",
        "fig, ax = plt.subplots()\n",
        "ax.hist(meanGrade, bin_edges, cumulative=False, edgecolor='black', linewidth=1.2)\n",
        "ax.set_xlabel('Mean Grade')\n",
        "ax.set_ylabel('Frequency')\n",
        "plt.show()"
      ],
      "metadata": {
        "colab": {
          "base_uri": "https://localhost:8080/",
          "height": 453
        },
        "id": "rU9sG_sRB6y7",
        "outputId": "ab6fb8b8-18db-4550-e1c2-9ae5f71a4b81"
      },
      "execution_count": null,
      "outputs": [
        {
          "output_type": "display_data",
          "data": {
            "text/plain": [
              "<Figure size 640x480 with 1 Axes>"
            ],
            "image/png": "[encoded data removed]"
          },
          "metadata": {}
        }
      ]
    },
    {
      "cell_type": "code",
      "execution_count": null,
      "metadata": {
        "colab": {
          "base_uri": "https://localhost:8080/"
        },
        "id": "Pc5hPTwhn27c",
        "outputId": "855b9c47-69dd-43d5-da7d-29f312d6c587"
      },
      "outputs": [
        {
          "output_type": "stream",
          "name": "stdout",
          "text": [
            "Dataset sizes\n",
            "9652 2419 3024 15095\n"
          ]
        }
      ],
      "source": [
        "print('Dataset sizes')\n",
        "print(len(train_df), len(val_df), len(test_df), len(all_df))"
      ]
    },
    {
      "cell_type": "markdown",
      "source": [
        "# Model Performance (MSE and RMSE)"
      ],
      "metadata": {
        "id": "JIabtV9rImVd"
      }
    },
    {
      "cell_type": "code",
      "execution_count": null,
      "metadata": {
        "id": "ARogerWickDb"
      },
      "outputs": [],
      "source": [
        "# How we print the model performance\n",
        "def model_performance(output, target, print_output=False):\n",
        "    \"\"\"\n",
        "    Returns SSE and MSE per batch (printing the MSE and the RMSE)\n",
        "    \"\"\"\n",
        "    # Individually find which headline has the highest and lowest scores\n",
        "    ex_sq_error = list()\n",
        "    for pred, trg_ex in zip(output, target):\n",
        "      sq_error_ex = (output - target)**2\n",
        "      ex_sq_error.append(sq_error_ex)\n",
        "\n",
        "    indices = np.argsort(np.array(ex_sq_error))\n",
        "    best_examples  = indices[:5]\n",
        "    worst_examples  = indices[-5:]\n",
        "    print(best_examples)\n",
        "    print(worst_examples)\n",
        "\n",
        "    sq_error = (output - target)**2\n",
        "\n",
        "    sse = np.sum(sq_error)\n",
        "    mse = np.mean(sq_error)\n",
        "    rmse = np.sqrt(mse)\n",
        "\n",
        "    if print_output:\n",
        "        print(f'| MSE: {mse:.4f} | RMSE: {rmse:.4f} |')\n",
        "\n",
        "    return sse, mse"
      ]
    },
    {
      "cell_type": "code",
      "execution_count": null,
      "metadata": {
        "colab": {
          "base_uri": "https://localhost:8080/"
        },
        "id": "jfXJhbOhK7g_",
        "outputId": "8a83685e-d39a-443a-bb05-fb53f8b1fdf4"
      },
      "outputs": [
        {
          "output_type": "stream",
          "name": "stdout",
          "text": [
            "Number of unique words in training set: 16801\n",
            "Number of unique words in validation set: 6665\n",
            "Number of unique words in test set: 7860\n",
            "Number of words occurring in validation set not seen in training set: 2466\n",
            "Number of words occurring in test set not seen in training set: 2986\n"
          ]
        }
      ],
      "source": [
        "def get_vocab(df):\n",
        "  vocab = set()\n",
        "  for headline in pd.concat([df['original'], df['edit']]):\n",
        "    vocab.update(headline.split())\n",
        "  return vocab\n",
        "\n",
        "train_vocab = get_vocab(train_df)\n",
        "val_vocab = get_vocab(val_df)\n",
        "test_vocab = get_vocab(test_df)\n",
        "\n",
        "print(\"Number of unique words in training set: %d\" % len(train_vocab))\n",
        "print(\"Number of unique words in validation set: %d\" % len(val_vocab))\n",
        "print(\"Number of unique words in test set: %d\" % len(test_vocab))\n",
        "print(\"Number of words occurring in validation set not seen in training set: %d\" % len(val_vocab.difference(train_vocab)))\n",
        "print(\"Number of words occurring in test set not seen in training set: %d\" % len(test_vocab.difference(train_vocab)))"
      ]
    },
    {
      "cell_type": "markdown",
      "metadata": {
        "id": "HatWFOBEMv4D"
      },
      "source": [
        "# Traditional ML Approach"
      ]
    },
    {
      "cell_type": "markdown",
      "metadata": {
        "id": "n3-6IaYyyrOq"
      },
      "source": [
        "### CountVectorize and TF-IDF with Regression Models (LR, SVR, Random Forest)"
      ]
    },
    {
      "cell_type": "code",
      "execution_count": null,
      "metadata": {
        "id": "0nAYJml7n1P_",
        "colab": {
          "base_uri": "https://localhost:8080/"
        },
        "outputId": "62f78020-fea4-4fc9-b69a-8637321c98c0"
      },
      "outputs": [
        {
          "output_type": "stream",
          "name": "stderr",
          "text": [
            "<ipython-input-6-eab281c8814a>:6: FutureWarning: The default value of regex will change from True to False in a future version.\n",
            "  train_df[\"old\"] = train_df[\"original\"].str.replace(r\"<(.+)/>\", \"\\g<1>\")\n",
            "<ipython-input-6-eab281c8814a>:12: FutureWarning: The default value of regex will change from True to False in a future version.\n",
            "  test_df[\"old\"] = test_df[\"original\"].str.replace(r\"<(.+)/>\", \"\\g<1>\")\n"
          ]
        },
        {
          "output_type": "stream",
          "name": "stdout",
          "text": [
            "            idf_weights\n",
            "000            5.940918\n",
            "02             8.788730\n",
            "10             5.940918\n",
            "100            6.879187\n",
            "100k           8.788730\n",
            "...                 ...\n",
            "zones          8.229114\n",
            "zte            8.788730\n",
            "zuck           8.788730\n",
            "zucker         8.788730\n",
            "zuckerberg     7.977799\n",
            "\n",
            "[7001 rows x 1 columns]\n"
          ]
        }
      ],
      "source": [
        "# Create columns for full headline before & after edit\n",
        "# For training set\n",
        "train_df[\"new\"] = train_df.apply(\n",
        "  lambda row: re.sub(r\"<.+/>\", row[\"edit\"], row[\"original\"]), axis=1\n",
        ")\n",
        "train_df[\"old\"] = train_df[\"original\"].str.replace(r\"<(.+)/>\", \"\\g<1>\")\n",
        "\n",
        "# For test set\n",
        "test_df[\"new\"] = test_df.apply(\n",
        "  lambda row: re.sub(r\"<.+/>\", row[\"edit\"], row[\"original\"]), axis=1\n",
        ")\n",
        "test_df[\"old\"] = test_df[\"original\"].str.replace(r\"<(.+)/>\", \"\\g<1>\")\n",
        "\n",
        "# We train a Tf-idf model for original and new headline\n",
        "count_vect = CountVectorizer(stop_words='english')\n",
        "train_counts = count_vect.fit_transform(train_df['old'])\n",
        "transformer = TfidfTransformer().fit(train_counts)\n",
        "train_counts = transformer.transform(train_counts)\n",
        "\n",
        "# For getting the idf weightings\n",
        "df_idf = pd.DataFrame(transformer.idf_, index=count_vect.get_feature_names_out(),columns=[\"idf_weights\"])\n",
        "df_idf.sort_values(by=['idf_weights'])\n",
        "print(df_idf)\n",
        "\n",
        "\n",
        "count_vect_edited = CountVectorizer(stop_words='english')\n",
        "train_counts_edited = count_vect_edited.fit_transform(train_df['new'])\n",
        "transformer_edited = TfidfTransformer().fit(train_counts_edited)\n",
        "train_counts_edited = transformer_edited.transform(train_counts_edited)\n",
        "\n",
        "training_x = hstack((train_counts, train_counts_edited))\n",
        "training_y = train_df['meanGrade']\n",
        "\n",
        "# Processing test data\n",
        "# Note that you re-use the vectorisers learnt on the train data\n",
        "test_counts = count_vect.transform(test_df['old'])\n",
        "test_counts = transformer.transform(test_counts)\n",
        "test_counts_edited = count_vect_edited.transform(test_df['new'])\n",
        "test_counts_edited = transformer_edited.transform(test_counts_edited)\n",
        "\n",
        "testing_x = hstack((test_counts, test_counts_edited))\n",
        "testing_y = test_df['meanGrade']"
      ]
    },
    {
      "cell_type": "code",
      "source": [
        "df_idf.sort_values(['idf_weights'], ascending=False)"
      ],
      "metadata": {
        "colab": {
          "base_uri": "https://localhost:8080/",
          "height": 424
        },
        "id": "UCyzK9Du6z-B",
        "outputId": "f6c3e603-5ab1-4219-db5b-488e1eabfa06"
      },
      "execution_count": null,
      "outputs": [
        {
          "output_type": "execute_result",
          "data": {
            "text/plain": [
              "            idf_weights\n",
              "waiter         9.481877\n",
              "accounting     9.481877\n",
              "trick          9.481877\n",
              "disavow        9.481877\n",
              "smashes        9.481877\n",
              "...                 ...\n",
              "donald         4.176087\n",
              "russia         4.085979\n",
              "house          3.879758\n",
              "says           3.719825\n",
              "trump          1.948183\n",
              "\n",
              "[7001 rows x 1 columns]"
            ],
            "text/html": [
              "\n",
              "  <div id=\"df-cea76358-6d1f-4ea4-a53a-aab868db02ce\">\n",
              "    <div class=\"colab-df-container\">\n",
              "      <div>\n",
              "<style scoped>\n",
              "    .dataframe tbody tr th:only-of-type {\n",
              "        vertical-align: middle;\n",
              "    }\n",
              "\n",
              "    .dataframe tbody tr th {\n",
              "        vertical-align: top;\n",
              "    }\n",
              "\n",
              "    .dataframe thead th {\n",
              "        text-align: right;\n",
              "    }\n",
              "</style>\n",
              "<table border=\"1\" class=\"dataframe\">\n",
              "  <thead>\n",
              "    <tr style=\"text-align: right;\">\n",
              "      <th></th>\n",
              "      <th>idf_weights</th>\n",
              "    </tr>\n",
              "  </thead>\n",
              "  <tbody>\n",
              "    <tr>\n",
              "      <th>waiter</th>\n",
              "      <td>9.481877</td>\n",
              "    </tr>\n",
              "    <tr>\n",
              "      <th>accounting</th>\n",
              "      <td>9.481877</td>\n",
              "    </tr>\n",
              "    <tr>\n",
              "      <th>trick</th>\n",
              "      <td>9.481877</td>\n",
              "    </tr>\n",
              "    <tr>\n",
              "      <th>disavow</th>\n",
              "      <td>9.481877</td>\n",
              "    </tr>\n",
              "    <tr>\n",
              "      <th>smashes</th>\n",
              "      <td>9.481877</td>\n",
              "    </tr>\n",
              "    <tr>\n",
              "      <th>...</th>\n",
              "      <td>...</td>\n",
              "    </tr>\n",
              "    <tr>\n",
              "      <th>donald</th>\n",
              "      <td>4.176087</td>\n",
              "    </tr>\n",
              "    <tr>\n",
              "      <th>russia</th>\n",
              "      <td>4.085979</td>\n",
              "    </tr>\n",
              "    <tr>\n",
              "      <th>house</th>\n",
              "      <td>3.879758</td>\n",
              "    </tr>\n",
              "    <tr>\n",
              "      <th>says</th>\n",
              "      <td>3.719825</td>\n",
              "    </tr>\n",
              "    <tr>\n",
              "      <th>trump</th>\n",
              "      <td>1.948183</td>\n",
              "    </tr>\n",
              "  </tbody>\n",
              "</table>\n",
              "<p>7001 rows × 1 columns</p>\n",
              "</div>\n",
              "      <button class=\"colab-df-convert\" onclick=\"convertToInteractive('df-cea76358-6d1f-4ea4-a53a-aab868db02ce')\"\n",
              "              title=\"Convert this dataframe to an interactive table.\"\n",
              "              style=\"display:none;\">\n",
              "        \n",
              "  <svg xmlns=\"http://www.w3.org/2000/svg\" height=\"24px\"viewBox=\"0 0 24 24\"\n",
              "       width=\"24px\">\n",
              "    <path d=\"M0 0h24v24H0V0z\" fill=\"none\"/>\n",
              "    <path d=\"M18.56 5.44l.94 2.06.94-2.06 2.06-.94-2.06-.94-.94-2.06-.94 2.06-2.06.94zm-11 1L8.5 8.5l.94-2.06 2.06-.94-2.06-.94L8.5 2.5l-.94 2.06-2.06.94zm10 10l.94 2.06.94-2.06 2.06-.94-2.06-.94-.94-2.06-.94 2.06-2.06.94z\"/><path d=\"M17.41 7.96l-1.37-1.37c-.4-.4-.92-.59-1.43-.59-.52 0-1.04.2-1.43.59L10.3 9.45l-7.72 7.72c-.78.78-.78 2.05 0 2.83L4 21.41c.39.39.9.59 1.41.59.51 0 1.02-.2 1.41-.59l7.78-7.78 2.81-2.81c.8-.78.8-2.07 0-2.86zM5.41 20L4 18.59l7.72-7.72 1.47 1.35L5.41 20z\"/>\n",
              "  </svg>\n",
              "      </button>\n",
              "      \n",
              "  <style>\n",
              "    .colab-df-container {\n",
              "      display:flex;\n",
              "      flex-wrap:wrap;\n",
              "      gap: 12px;\n",
              "    }\n",
              "\n",
              "    .colab-df-convert {\n",
              "      background-color: #E8F0FE;\n",
              "      border: none;\n",
              "      border-radius: 50%;\n",
              "      cursor: pointer;\n",
              "      display: none;\n",
              "      fill: #1967D2;\n",
              "      height: 32px;\n",
              "      padding: 0 0 0 0;\n",
              "      width: 32px;\n",
              "    }\n",
              "\n",
              "    .colab-df-convert:hover {\n",
              "      background-color: #E2EBFA;\n",
              "      box-shadow: 0px 1px 2px rgba(60, 64, 67, 0.3), 0px 1px 3px 1px rgba(60, 64, 67, 0.15);\n",
              "      fill: #174EA6;\n",
              "    }\n",
              "\n",
              "    [theme=dark] .colab-df-convert {\n",
              "      background-color: #3B4455;\n",
              "      fill: #D2E3FC;\n",
              "    }\n",
              "\n",
              "    [theme=dark] .colab-df-convert:hover {\n",
              "      background-color: #434B5C;\n",
              "      box-shadow: 0px 1px 3px 1px rgba(0, 0, 0, 0.15);\n",
              "      filter: drop-shadow(0px 1px 2px rgba(0, 0, 0, 0.3));\n",
              "      fill: #FFFFFF;\n",
              "    }\n",
              "  </style>\n",
              "\n",
              "      <script>\n",
              "        const buttonEl =\n",
              "          document.querySelector('#df-cea76358-6d1f-4ea4-a53a-aab868db02ce button.colab-df-convert');\n",
              "        buttonEl.style.display =\n",
              "          google.colab.kernel.accessAllowed ? 'block' : 'none';\n",
              "\n",
              "        async function convertToInteractive(key) {\n",
              "          const element = document.querySelector('#df-cea76358-6d1f-4ea4-a53a-aab868db02ce');\n",
              "          const dataTable =\n",
              "            await google.colab.kernel.invokeFunction('convertToInteractive',\n",
              "                                                     [key], {});\n",
              "          if (!dataTable) return;\n",
              "\n",
              "          const docLinkHtml = 'Like what you see? Visit the ' +\n",
              "            '<a target=\"_blank\" href=https://colab.research.google.com/notebooks/data_table.ipynb>data table notebook</a>'\n",
              "            + ' to learn more about interactive tables.';\n",
              "          element.innerHTML = '';\n",
              "          dataTable['output_type'] = 'display_data';\n",
              "          await google.colab.output.renderOutput(dataTable, element);\n",
              "          const docLink = document.createElement('div');\n",
              "          docLink.innerHTML = docLinkHtml;\n",
              "          element.appendChild(docLink);\n",
              "        }\n",
              "      </script>\n",
              "    </div>\n",
              "  </div>\n",
              "  "
            ]
          },
          "metadata": {},
          "execution_count": 78
        }
      ]
    },
    {
      "cell_type": "markdown",
      "metadata": {
        "id": "aTo5k-YjOFQ6"
      },
      "source": [
        "# Baseline from Mean\n",
        "\n",
        "Predicts mean of training set regardless of input"
      ]
    },
    {
      "cell_type": "code",
      "execution_count": null,
      "metadata": {
        "id": "r2qGnA6MN-Ss",
        "colab": {
          "base_uri": "https://localhost:8080/"
        },
        "outputId": "241f8a80-7902-4f1b-bb8a-7d34a66c53d3"
      },
      "outputs": [
        {
          "output_type": "stream",
          "name": "stdout",
          "text": [
            "\n",
            "Baseline performance:\n",
            "[[2366 2018  259 ...  852  935 1712]\n",
            " [2366 2018  259 ...  852  935 1712]\n",
            " [2366 2018  259 ...  852  935 1712]\n",
            " [2366 2018  259 ...  852  935 1712]\n",
            " [2366 2018  259 ...  852  935 1712]]\n",
            "[[2366 2018  259 ...  852  935 1712]\n",
            " [2366 2018  259 ...  852  935 1712]\n",
            " [2366 2018  259 ...  852  935 1712]\n",
            " [2366 2018  259 ...  852  935 1712]\n",
            " [2366 2018  259 ...  852  935 1712]]\n",
            "| MSE: 0.3303 | RMSE: 0.5747 |\n"
          ]
        }
      ],
      "source": [
        "# Baseline for the task\n",
        "# Assign all elements in a tensor of zeros with the same length as testing_y to the mean of training_y\n",
        "# This represents the baseline predictions (mean of target values in training set)\n",
        "pred_baseline = torch.zeros(len(testing_y)) + np.mean(training_y)\n",
        "print(\"\\nBaseline performance:\")\n",
        "sse, mse = model_performance(pred_baseline, testing_y, True)"
      ]
    },
    {
      "cell_type": "markdown",
      "metadata": {
        "id": "jLGhSQYZLRUj"
      },
      "source": [
        "### Linear Regression:"
      ]
    },
    {
      "cell_type": "code",
      "execution_count": null,
      "metadata": {
        "id": "nLH4hjeTLPNN"
      },
      "outputs": [],
      "source": [
        "# Training model\n",
        "lr = LinearRegression().fit(training_x, training_y)\n",
        "\n",
        "# Getting training set predictions\n",
        "predicted_train = lr.predict(training_x)\n",
        "\n",
        "# Test predictions\n",
        "predicted = lr.predict(testing_x)\n",
        "\n",
        "# We run the evaluation:\n",
        "print(\"\\nTrain performance:\")\n",
        "sse, mse = model_performance(predicted_train, training_y, True)\n",
        "\n",
        "print(\"\\nTest performance:\")\n",
        "sse, mse = model_performance(predicted, testing_y, True)\n"
      ]
    },
    {
      "cell_type": "markdown",
      "metadata": {
        "id": "qN6EbMvoc6au"
      },
      "source": [
        "Support Vector Regression:"
      ]
    },
    {
      "cell_type": "code",
      "source": [
        "training_x"
      ],
      "metadata": {
        "colab": {
          "base_uri": "https://localhost:8080/"
        },
        "id": "BPcpMTNnF_bx",
        "outputId": "140bef7a-59d5-46c3-893e-e921649c0b97"
      },
      "execution_count": null,
      "outputs": [
        {
          "output_type": "execute_result",
          "data": {
            "text/plain": [
              "<9652x17165 sparse matrix of type '<class 'numpy.float64'>'\n",
              "\twith 147721 stored elements in Compressed Sparse Row format>"
            ]
          },
          "metadata": {},
          "execution_count": 10
        }
      ]
    },
    {
      "cell_type": "code",
      "execution_count": null,
      "metadata": {
        "id": "Lc6bHDtuclVO"
      },
      "outputs": [],
      "source": [
        "# Training model\n",
        "svr = SVR().fit(training_x, training_y)\n",
        "\n",
        "# Getting training set predictions\n",
        "predicted_train = svr.predict(training_x)\n",
        "\n",
        "# Test predictions\n",
        "predicted = svr.predict(testing_x)\n",
        "\n",
        "# We run the evaluation:\n",
        "print(\"\\nTrain performance:\")\n",
        "sse, mse = model_performance(predicted_train, training_y, True)\n",
        "\n",
        "print(\"\\nDev performance:\")\n",
        "sse, mse = model_performance(predicted, testing_y, True)"
      ]
    },
    {
      "cell_type": "markdown",
      "metadata": {
        "id": "aLc35_m-c8X6"
      },
      "source": [
        "Random Forest Regressor:"
      ]
    },
    {
      "cell_type": "code",
      "execution_count": null,
      "metadata": {
        "id": "hpIpANdSc96m",
        "colab": {
          "base_uri": "https://localhost:8080/"
        },
        "outputId": "efe01267-5cc2-40b8-ab62-046684c43dba"
      },
      "outputs": [
        {
          "output_type": "stream",
          "name": "stdout",
          "text": [
            "\n",
            "Train performance:\n",
            "[[ 834 4585 2073 ... 7852 2043 1490]\n",
            " [ 834 4585 2073 ... 7852 2043 1490]\n",
            " [ 834 4585 2073 ... 7852 2043 1490]\n",
            " [ 834 4585 2073 ... 7852 2043 1490]\n",
            " [ 834 4585 2073 ... 7852 2043 1490]]\n",
            "[[ 834 4585 2073 ... 7852 2043 1490]\n",
            " [ 834 4585 2073 ... 7852 2043 1490]\n",
            " [ 834 4585 2073 ... 7852 2043 1490]\n",
            " [ 834 4585 2073 ... 7852 2043 1490]\n",
            " [ 834 4585 2073 ... 7852 2043 1490]]\n",
            "| MSE: 0.0484 | RMSE: 0.2199 |\n",
            "\n",
            "Dev performance:\n",
            "[[1484 1310   95 ... 1712 2687 1054]\n",
            " [1484 1310   95 ... 1712 2687 1054]\n",
            " [1484 1310   95 ... 1712 2687 1054]\n",
            " [1484 1310   95 ... 1712 2687 1054]\n",
            " [1484 1310   95 ... 1712 2687 1054]]\n",
            "[[1484 1310   95 ... 1712 2687 1054]\n",
            " [1484 1310   95 ... 1712 2687 1054]\n",
            " [1484 1310   95 ... 1712 2687 1054]\n",
            " [1484 1310   95 ... 1712 2687 1054]\n",
            " [1484 1310   95 ... 1712 2687 1054]]\n",
            "| MSE: 0.3346 | RMSE: 0.5784 |\n",
            "-0.013038756233338056\n"
          ]
        }
      ],
      "source": [
        "# Training model\n",
        "rfr = RandomForestRegressor()\n",
        "rfr = rfr.fit(training_x, training_y)\n",
        "\n",
        "# Getting training set predictions\n",
        "predicted_train = rfr.predict(training_x)\n",
        "\n",
        "# Test predictions\n",
        "predicted = rfr.predict(testing_x)\n",
        "\n",
        "# We run the evaluation:\n",
        "print(\"\\nTrain performance:\")\n",
        "sse, mse = model_performance(predicted_train, training_y, True)\n",
        "\n",
        "print(\"\\nDev performance:\")\n",
        "sse, mse = model_performance(predicted, testing_y, True)\n",
        "\n",
        "from sklearn.metrics import r2_score\n",
        "print(r2_score(testing_y, predicted))"
      ]
    },
    {
      "cell_type": "markdown",
      "metadata": {
        "id": "sTnTonaUMFU6"
      },
      "source": [
        "# Data Preprocessing Functions\n",
        "\n",
        "In this section we have implemented some basic functions for preprocessing our data including punctuation removal, whitespace removal, stop word removal, lowercasing, number removal, and word lemmatizing."
      ]
    },
    {
      "cell_type": "code",
      "execution_count": null,
      "metadata": {
        "id": "IsYg_3AENjhE"
      },
      "outputs": [],
      "source": [
        "lemmatizer = WordNetLemmatizer()\n",
        "wordnet_map = {\"N\":wordnet.NOUN, \"V\":wordnet.VERB, \"J\":wordnet.ADJ, \"R\":wordnet.ADV}\n",
        "\n",
        "def remove_punct(headline):\n",
        "  table = str.maketrans('', '', \"!\\\"#$%&'()*+,-.:;=?@[\\]^_`{|}~»‘’“”—\")\n",
        "  return headline.translate(table)\n",
        "\n",
        "\n",
        "def remove_excessive_whitespace(headline):\n",
        "  return re.sub(' +', ' ', headline).strip()\n",
        "\n",
        "\n",
        "def to_lower(headline):\n",
        "  return headline.lower()\n",
        "\n",
        "\n",
        "def remove_stop_words(headline):\n",
        "  stop_words = set([\"the\", \"a\", \"an\", \"that\", \"is\", \"and\", \"or\", \"its\", \"in\", \"m\", \"s\", \"t\", \"ll\"])\n",
        "\n",
        "  headline_SWR = []\n",
        "  for token in headline.split(\" \"):\n",
        "    if token not in stop_words and token != \"\":\n",
        "        headline_SWR.append(token)\n",
        "\n",
        "  return \" \".join(headline_SWR)\n",
        "\n",
        "\n",
        "def remove_numbers(headline):\n",
        "  return re.sub(r'\\d+', '', headline)\n",
        "\n",
        "\n",
        "def lemmatize_words(headline):\n",
        "  pos_tagged_text = nltk.pos_tag(headline.split())\n",
        "  return \" \".join([lemmatizer.lemmatize(word, wordnet_map.get(pos[0], wordnet.NOUN)) for word, pos in pos_tagged_text])\n",
        "\n",
        "def characterize(headline):\n",
        "  x = headline.split()\n",
        "  first = x[0]\n",
        "  character = ([*first])\n",
        "  return ' '.join(character)"
      ]
    },
    {
      "cell_type": "code",
      "execution_count": null,
      "metadata": {
        "id": "E3BNoTayN39H"
      },
      "outputs": [],
      "source": [
        "# Wrapper Function to process all the functions above\n",
        "def preprocess_fn(headline, punct_removal=True, whitespace_removal=True, stopword_removal=True, number_removal=True, word_lemmatize=True, chracaterize=True):\n",
        "  headline = headline.lower()\n",
        "\n",
        "  if punct_removal:\n",
        "    headline = remove_punct(headline)\n",
        "\n",
        "  if whitespace_removal:\n",
        "    headline = remove_excessive_whitespace(headline)\n",
        "\n",
        "  if stopword_removal:\n",
        "    headline = remove_stop_words(headline)\n",
        "\n",
        "  if number_removal:\n",
        "    headline = remove_numbers(headline)\n",
        "\n",
        "  if word_lemmatize:\n",
        "    headline = lemmatize_words(headline)\n",
        "\n",
        "  if chracaterize:\n",
        "    headline = characterize(headline)\n",
        "\n",
        "  return headline\n",
        "\n",
        "def preprocess(df, punct_removal=True, whitespace_removal=True, stopword_removal=True, number_removal=True, word_lemmatize=True):\n",
        "  '''\n",
        "    Creates new columns 'original_preprocessed' and 'edit_preprocessed' in dataframe\n",
        "    containing preprocessed version of 'original' and 'edit' columns.\n",
        "  '''\n",
        "  df['original_preprocessed'] = df['original'].apply(preprocess_fn, args=(punct_removal, whitespace_removal, stopword_removal, number_removal, word_lemmatize, False))\n",
        "  df['edit_preprocessed'] = df['edit'].apply(preprocess_fn, args=(punct_removal, whitespace_removal, stopword_removal, number_removal, word_lemmatize, False))"
      ]
    },
    {
      "cell_type": "code",
      "source": [
        "preprocess(train_df)\n",
        "preprocess(test_df)"
      ],
      "metadata": {
        "id": "W6ZpQ0zXDqu6"
      },
      "execution_count": null,
      "outputs": []
    },
    {
      "cell_type": "code",
      "execution_count": null,
      "metadata": {
        "id": "4tyrDCOj7FEX"
      },
      "outputs": [],
      "source": [
        "# We train a Tf-idf model for original and new headline\n",
        "count_vect = CountVectorizer(stop_words='english')\n",
        "# note that we take the column with pre-processed data\n",
        "train_counts = count_vect.fit_transform(train_df['original_preprocessed'])\n",
        "transformer = TfidfTransformer().fit(train_counts)\n",
        "train_counts = transformer.transform(train_counts)\n",
        "\n",
        "count_vect_edited = CountVectorizer(stop_words='english')\n",
        "train_counts_edited = count_vect_edited.fit_transform(train_df['edit_preprocessed'])\n",
        "transformer_edited = TfidfTransformer().fit(train_counts_edited)\n",
        "train_counts_edited = transformer_edited.transform(train_counts_edited)\n",
        "\n",
        "# Character tokenization done by CountVectorizer\n",
        "char_count_vect = CountVectorizer(analyzer='char')\n",
        "train_char_counts = char_count_vect.fit_transform(train_df['original_preprocessed'])\n",
        "\n",
        "char_count_vect_edited = CountVectorizer(analyzer='char')\n",
        "train_char_counts_edited = char_count_vect_edited.fit_transform(train_df['edit_preprocessed'])\n",
        "\n",
        "# Stack all 4 arrays\n",
        "training_x = hstack((train_counts, train_counts_edited, train_char_counts, train_char_counts_edited))\n",
        "training_y = train_df['meanGrade']\n",
        "\n",
        "# Processing test data\n",
        "test_counts = count_vect.transform(test_df['original_preprocessed'])\n",
        "test_counts = transformer.transform(test_counts)\n",
        "test_counts_edited = count_vect_edited.transform(test_df['edit_preprocessed'])\n",
        "test_counts_edited = transformer_edited.transform(test_counts_edited)\n",
        "\n",
        "test_char_counts = char_count_vect.transform(test_df['original_preprocessed'])\n",
        "test_char_counts_edited = char_count_vect_edited.transform(test_df['edit_preprocessed'])\n",
        "\n",
        "\n",
        "testing_x = hstack((test_counts, test_counts_edited, test_char_counts, test_char_counts_edited))\n",
        "testing_y = test_df['meanGrade']"
      ]
    },
    {
      "cell_type": "markdown",
      "source": [
        "## Models with Preprocessed Data"
      ],
      "metadata": {
        "id": "aJ8meJhuYzdb"
      }
    },
    {
      "cell_type": "code",
      "execution_count": null,
      "metadata": {
        "id": "o4LQkSs871Tv"
      },
      "outputs": [],
      "source": [
        "# Linear Regression Training model\n",
        "lr = LinearRegression().fit(training_x, training_y)\n",
        "\n",
        "# Getting training set predictions\n",
        "predicted_train = lr.predict(training_x)\n",
        "\n",
        "# Test predictions\n",
        "predicted = lr.predict(testing_x)\n",
        "\n",
        "print(\"\\nTest performance:\")\n",
        "sse, mse = model_performance(predicted, testing_y, True)"
      ]
    },
    {
      "cell_type": "code",
      "source": [
        "# Support Vector Regression Training model\n",
        "svr = SVR().fit(training_x, training_y)\n",
        "\n",
        "# Getting training set predictions\n",
        "predicted_train = svr.predict(training_x)\n",
        "\n",
        "# Test predictions\n",
        "predicted = svr.predict(testing_x)\n",
        "\n",
        "print(\"\\nTest performance:\")\n",
        "sse, mse = model_performance(predicted, testing_y, True)"
      ],
      "metadata": {
        "id": "lcSUC_RSHcBR"
      },
      "execution_count": null,
      "outputs": []
    },
    {
      "cell_type": "code",
      "source": [
        "# Random Forest Regression Training model\n",
        "rfr = RandomForestRegressor().fit(training_x, training_y)\n",
        "\n",
        "# Getting training set predictions\n",
        "predicted_train = rfr.predict(training_x)\n",
        "\n",
        "# Test predictions\n",
        "predicted = rfr.predict(testing_x)\n",
        "\n",
        "print(\"\\nTest performance:\")\n",
        "sse, mse = model_performance(predicted, testing_y, True)"
      ],
      "metadata": {
        "id": "cadnVqeJYxSc"
      },
      "execution_count": null,
      "outputs": []
    },
    {
      "cell_type": "markdown",
      "metadata": {
        "id": "R2CXOFKAfR9h"
      },
      "source": [
        "**SVR Grid Search**\n",
        "Hyper-parameter tuning"
      ]
    },
    {
      "cell_type": "code",
      "execution_count": null,
      "metadata": {
        "id": "zL2H2cw_HZnx"
      },
      "outputs": [],
      "source": [
        "from datetime import datetime\n",
        "\n",
        "# Define Grid\n",
        "grid = {\n",
        "    'kernel': [\"rbf\", \"linear\", \"poly\"],\n",
        "    'C': [1, 2, 10],\n",
        "    'gamma': [0.0001, 0.001, 0.01, 2],\n",
        "    'epsilon': [0.1, 0.2, 2]\n",
        "}\n",
        "# Save start time\n",
        "start = datetime.now()\n",
        "\n",
        "# Grid Search function\n",
        "CV_svr = GridSearchCV(estimator=SVR(), param_grid=grid, cv= 3, n_jobs= -1, verbose = 2, scoring = 'neg_mean_squared_error')\n",
        "CV_svr.fit(training_x, training_y)\n",
        "\n",
        "# Save end time\n",
        "end = datetime.now()\n",
        "diff = end - start\n",
        "\n",
        "# Calculate time taken\n",
        "print(\"time taken: \", diff.total_seconds()/60 )\n",
        "\n",
        "print(\" Results from Grid Search \" )\n",
        "print(\"\\n The best estimator across ALL searched params:\\n\",CV_svr.best_estimator_)\n",
        "print(\"\\n The best score across ALL searched params:\\n\",CV_svr.best_score_)\n",
        "print(\"\\n The best parameters across ALL searched params:\\n\",CV_svr.best_params_)"
      ]
    },
    {
      "cell_type": "code",
      "execution_count": null,
      "metadata": {
        "id": "gUW0QSOB7mX9"
      },
      "outputs": [],
      "source": [
        "# Support Vector Regression Training model with optimals Hyperparameters\n",
        "svr = SVR(kernel=\"rbf\", C=10, epsilon=0.2, gamma=0.001).fit(training_x, training_y)\n",
        "\n",
        "# Getting training set predictions\n",
        "predicted_train = svr.predict(training_x)\n",
        "\n",
        "# Test predictions\n",
        "predicted = svr.predict(testing_x)\n",
        "\n",
        "# We run the evaluation:\n",
        "print(\"\\nTrain performance:\")\n",
        "sse, mse = model_performance(predicted_train, training_y, True)\n",
        "\n",
        "print(\"\\nTest performance:\")\n",
        "sse, mse = model_performance(predicted, testing_y, True)"
      ]
    },
    {
      "cell_type": "markdown",
      "metadata": {
        "id": "u0KMDaEdErHG"
      },
      "source": [
        "**RFR Grid Search**\n",
        "Hyper-parameter tuning"
      ]
    },
    {
      "cell_type": "code",
      "execution_count": null,
      "metadata": {
        "id": "J4kXZesp_L9d"
      },
      "outputs": [],
      "source": [
        "from datetime import datetime\n",
        "\n",
        "# Define Grid\n",
        "grid = {\n",
        "    'criterion': [\"squared_error\"],\n",
        "    'n_estimators': [150, 200, 250],\n",
        "    'max_depth' : [100, 200,300],\n",
        "    'min_samples_leaf': [5,10, 15]\n",
        "}\n",
        "\n",
        "start = datetime.now()\n",
        "\n",
        "## Grid Search function\n",
        "CV_rfr = GridSearchCV(estimator=RandomForestRegressor(), param_grid=grid, cv= 3, n_jobs= -1, verbose = 2, scoring = \"neg_mean_squared_error\")\n",
        "CV_rfr.fit(training_x, training_y)\n",
        "\n",
        "end = datetime.now()\n",
        "diff = end - start\n",
        "print(\"time taken: \", diff.total_seconds()/60 )\n",
        "\n",
        "print(\" Results from Grid Search \" )\n",
        "print(\"\\n The best estimator across ALL searched params:\\n\",CV_rfr.best_estimator_)\n",
        "print(\"\\n The best score across ALL searched params:\\n\",CV_rfr.best_score_)\n",
        "print(\"\\n The best parameters across ALL searched params:\\n\",CV_rfr.best_params_)"
      ]
    },
    {
      "cell_type": "code",
      "source": [
        "# Random Forest Regression Training model with optimal Hyperparameters\n",
        "rfr = RandomForestRegressor(criterion=\"squared_error\", max_depth=300, min_samples_leaf=5, n_estimators=250)\n",
        "rfr = rfr.fit(training_x, training_y)\n",
        "\n",
        "# Getting training set predictions\n",
        "predicted_train = rfr.predict(training_x)\n",
        "\n",
        "# Test predictions\n",
        "predicted = rfr.predict(testing_x)\n",
        "\n",
        "# We run the evaluation:\n",
        "print(\"\\nTrain performance:\")\n",
        "sse, mse = model_performance(predicted_train, training_y, True)\n",
        "\n",
        "print(\"\\nTest performance:\")\n",
        "sse, mse = model_performance(predicted, testing_y, True)"
      ],
      "metadata": {
        "id": "1WA5vXXyFerg"
      },
      "execution_count": null,
      "outputs": []
    }
  ],
  "metadata": {
    "accelerator": "GPU",
    "colab": {
      "provenance": []
    },
    "kernelspec": {
      "display_name": "Python 3",
      "language": "python",
      "name": "python3"
    },
    "language_info": {
      "codemirror_mode": {
        "name": "ipython",
        "version": 3
      },
      "file_extension": ".py",
      "mimetype": "text/x-python",
      "name": "python",
      "nbconvert_exporter": "python",
      "pygments_lexer": "ipython3",
      "version": "3.7.1"
    }
  },
  "nbformat": 4,
  "nbformat_minor": 0
}